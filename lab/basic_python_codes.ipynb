{
  "nbformat": 4,
  "nbformat_minor": 0,
  "metadata": {
    "colab": {
      "provenance": [],
      "authorship_tag": "ABX9TyPyDRc/8ikiHW4ux2gSc8gM",
      "include_colab_link": true
    },
    "kernelspec": {
      "name": "python3",
      "display_name": "Python 3"
    },
    "language_info": {
      "name": "python"
    }
  },
  "cells": [
    {
      "cell_type": "markdown",
      "metadata": {
        "id": "view-in-github",
        "colab_type": "text"
      },
      "source": [
        "<a href=\"https://colab.research.google.com/github/kavyakanne/2320030048-AIML/blob/main/lab/basic_python_codes.ipynb\" target=\"_parent\"><img src=\"https://colab.research.google.com/assets/colab-badge.svg\" alt=\"Open In Colab\"/></a>"
      ]
    },
    {
      "cell_type": "code",
      "execution_count": null,
      "metadata": {
        "id": "qhr7zqozNDfu"
      },
      "outputs": [],
      "source": []
    },
    {
      "cell_type": "code",
      "source": [
        "print(1 + 2)\n",
        "# Subtraction:\n",
        "print(1 - 2)\n",
        "# Multiplication:\n",
        "print(1 * 2)\n",
        "# Division:\n",
        "print(4 / 5)\n",
        "print(4//5)\n"
      ],
      "metadata": {
        "colab": {
          "base_uri": "https://localhost:8080/"
        },
        "id": "ExDByb5sNWPP",
        "outputId": "ec69004e-df68-4b71-c628-264ed3af4de8"
      },
      "execution_count": 1,
      "outputs": [
        {
          "output_type": "stream",
          "name": "stdout",
          "text": [
            "3\n",
            "-1\n",
            "2\n",
            "0.8\n",
            "0\n"
          ]
        }
      ]
    },
    {
      "cell_type": "code",
      "source": [
        "print(4 // 2)\n",
        "print(-3.0 // 2)\n"
      ],
      "metadata": {
        "colab": {
          "base_uri": "https://localhost:8080/"
        },
        "id": "ys4cVSyNNd8N",
        "outputId": "cb2a230d-195d-4438-e18d-fc0a6ee46dfd"
      },
      "execution_count": 2,
      "outputs": [
        {
          "output_type": "stream",
          "name": "stdout",
          "text": [
            "2\n",
            "-2.0\n"
          ]
        }
      ]
    },
    {
      "cell_type": "code",
      "source": [
        "5%2"
      ],
      "metadata": {
        "colab": {
          "base_uri": "https://localhost:8080/"
        },
        "id": "OTnH90q8Nh5L",
        "outputId": "804b89ab-7c05-4cfb-d1db-0988ad817e7d"
      },
      "execution_count": 3,
      "outputs": [
        {
          "output_type": "execute_result",
          "data": {
            "text/plain": [
              "1"
            ]
          },
          "metadata": {},
          "execution_count": 3
        }
      ]
    },
    {
      "cell_type": "code",
      "source": [
        "min(5, 3, 2)"
      ],
      "metadata": {
        "colab": {
          "base_uri": "https://localhost:8080/"
        },
        "id": "tkYONQdoNryE",
        "outputId": "e419bc2d-51ba-4409-d1d1-f9044940f8d2"
      },
      "execution_count": 4,
      "outputs": [
        {
          "output_type": "execute_result",
          "data": {
            "text/plain": [
              "2"
            ]
          },
          "metadata": {},
          "execution_count": 4
        }
      ]
    },
    {
      "cell_type": "code",
      "source": [
        "if 1 == 1:\n",
        "    print('The integer 1 is equal to the integer 1.')\n",
        "    print('Is the next indented line run, too?')"
      ],
      "metadata": {
        "colab": {
          "base_uri": "https://localhost:8080/"
        },
        "id": "u8Rp_-PLNxrq",
        "outputId": "244680fa-8a6b-4dc4-f7aa-628170f502d1"
      },
      "execution_count": 5,
      "outputs": [
        {
          "output_type": "stream",
          "name": "stdout",
          "text": [
            "The integer 1 is equal to the integer 1.\n",
            "Is the next indented line run, too?\n"
          ]
        }
      ]
    },
    {
      "cell_type": "code",
      "source": [
        "if 50 < 30:\n",
        "    print(\"50 < 30.\")\n",
        "else:\n",
        "    print(\"50 >= 30.\")\n",
        "    print(\"The else code block wdas run instead of the first block.\")\n",
        "\n",
        "print('---')\n",
        "print('These two lines are not indented, so they are always run next.')"
      ],
      "metadata": {
        "colab": {
          "base_uri": "https://localhost:8080/"
        },
        "id": "ecqdS8sKN06n",
        "outputId": "444670ab-a4d2-40fe-8343-7b4abc585de5"
      },
      "execution_count": 6,
      "outputs": [
        {
          "output_type": "stream",
          "name": "stdout",
          "text": [
            "50 >= 30.\n",
            "The else code block wdas run instead of the first block.\n",
            "---\n",
            "These two lines are not indented, so they are always run next.\n"
          ]
        }
      ]
    },
    {
      "cell_type": "code",
      "source": [
        "health = 55\n",
        "\n",
        "if health > 70:\n",
        "    print('You are in great health!')\n",
        "elif health > 40:\n",
        "    print('Your health is average.')\n",
        "    print('Exercise and eat healthily!')\n",
        "else:\n",
        "    print('Your health is low.')\n",
        "    print('Please see a doctor now.')\n",
        "\n",
        "print('---')\n",
        "print('These two lines are not indented, so they are always run next.')"
      ],
      "metadata": {
        "colab": {
          "base_uri": "https://localhost:8080/"
        },
        "id": "7SQ1WlqLN3zQ",
        "outputId": "75ec3a76-bd0a-43cb-867b-50569017486c"
      },
      "execution_count": 7,
      "outputs": [
        {
          "output_type": "stream",
          "name": "stdout",
          "text": [
            "Your health is average.\n",
            "Exercise and eat healthily!\n",
            "---\n",
            "These two lines are not indented, so they are always run next.\n"
          ]
        }
      ]
    },
    {
      "cell_type": "code",
      "source": [
        "bachelor = input(\"You watch the bachelor?\")\n",
        "if bachelor == 'yes' or bachelor == 'Yes':\n",
        "    print('bachelor watcher')\n",
        "else:\n",
        "    print('possible bachelor watcher')"
      ],
      "metadata": {
        "colab": {
          "base_uri": "https://localhost:8080/"
        },
        "id": "9YlEKAM-N926",
        "outputId": "69bfe979-7668-424b-f2a6-9f6a48cc21c7"
      },
      "execution_count": 8,
      "outputs": [
        {
          "output_type": "stream",
          "name": "stdout",
          "text": [
            "You watch the bachelor?yes\n",
            "bachelor watcher\n"
          ]
        }
      ]
    },
    {
      "cell_type": "code",
      "source": [
        "x = 0\n",
        "while x < 10:\n",
        "    print(x)\n",
        "    x = x+1"
      ],
      "metadata": {
        "colab": {
          "base_uri": "https://localhost:8080/"
        },
        "id": "uBDtlcPTOIN7",
        "outputId": "5be1ef6a-5437-4e6e-90b9-ab6f6ee11029"
      },
      "execution_count": 9,
      "outputs": [
        {
          "output_type": "stream",
          "name": "stdout",
          "text": [
            "0\n",
            "1\n",
            "2\n",
            "3\n",
            "4\n",
            "5\n",
            "6\n",
            "7\n",
            "8\n",
            "9\n"
          ]
        }
      ]
    },
    {
      "cell_type": "code",
      "source": [
        "tuple1 = (1,2,3,4,5,6)\n",
        "print(\"3rd Item in tuple is: \", tuple1[2]) # Indexed Item\n",
        "print(\"Tuple from 2nd Item is: \", tuple1[2:])\n",
        "print(\"Tuple from 2nd to 4th Item is: \", tuple1[2:5])\n",
        "print(\"Tuple odd Items is: \", tuple1[::2])\n",
        "print(\"Tuple even Items is: \", tuple1[1::2])\n",
        "print(\"Tuple reversed Items is: \", tuple1[-1::-1])"
      ],
      "metadata": {
        "colab": {
          "base_uri": "https://localhost:8080/"
        },
        "id": "RP1NlaLCQ-d7",
        "outputId": "54710835-3127-488c-9e78-226d564d0495"
      },
      "execution_count": 10,
      "outputs": [
        {
          "output_type": "stream",
          "name": "stdout",
          "text": [
            "3rd Item in tuple is:  3\n",
            "Tuple from 2nd Item is:  (3, 4, 5, 6)\n",
            "Tuple from 2nd to 4th Item is:  (3, 4, 5)\n",
            "Tuple odd Items is:  (1, 3, 5)\n",
            "Tuple even Items is:  (2, 4, 6)\n",
            "Tuple reversed Items is:  (6, 5, 4, 3, 2, 1)\n"
          ]
        }
      ]
    }
  ]
}